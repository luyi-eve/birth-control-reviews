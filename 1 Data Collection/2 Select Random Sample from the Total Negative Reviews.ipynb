{
 "cells": [
  {
   "cell_type": "markdown",
   "id": "4d7fdee1",
   "metadata": {},
   "source": [
    "# 2 Select Random Sample from the Total Negative Reviews\n",
    "\n",
    "This notebook guides you on randomly selecting reviews from the total pool of negative reviews. I categorized 8825 negative reviews from seven apps based on a midpoint date, May 2022, into two groups: \"Before-Roe\" and \"Post-Roe.\" Using Python's \"sample()\" function, I randomly selected about 5% of the reviews from each group, totaling 453 samples (164 from Group 1 and 289 from Group 2). For apps with smaller review sizes, <i>myPill Birth Control Reminder</i> and <i>Birth Control Pill Reminder</i>, I randomly selected 50% of their reviews to ensure diversity.\n",
    "\n",
    "\n",
    "- **Goal:** to get review samples from the negative reviews pool (Note: negative reviews = \"1 and 2-star reviews\")\n",
    "- **Input:** all_7apps_reviews.csv - raw reviews scraped from the all seven selected apps.\n",
    "- **Output:**\n",
    "    - **Group 1: \"Before-Roe\" reviews <br>**\n",
    "    1) group1_negative_reviews.csv - a separate csv file that contains negative reviews **before** 2022-05-02<br>\n",
    "    2) group1_samples.csv - random sample selected from \"group1_negative_reviews.csv\"<br>\n",
    "    - **Group 2: \"Post-Roe\" reviews <br>**\n",
    "    1) group2_negative_reviews.csv - a separate file that contains negative reviews **after** 2022-05-02<br>\n",
    "    2) group2_samples.csv - random sample selected from \"group2_negative_reviews.csv\""
   ]
  },
  {
   "cell_type": "markdown",
   "id": "0553587d",
   "metadata": {},
   "source": [
    "### 1) Check the number of each app's negative reviews before and after the midpoint date"
   ]
  },
  {
   "cell_type": "code",
   "execution_count": 46,
   "id": "044b0b3e",
   "metadata": {
    "scrolled": true
   },
   "outputs": [
    {
     "name": "stderr",
     "output_type": "stream",
     "text": [
      "/var/folders/jg/7jsjjz6d6g5cxdkqkqxtc68w0000gn/T/ipykernel_65656/1534563505.py:30: FutureWarning: The frame.append method is deprecated and will be removed from pandas in a future version. Use pandas.concat instead.\n",
      "  merged_counts = merged_counts.append(total_row, ignore_index=True)\n"
     ]
    },
    {
     "data": {
      "text/html": [
       "<div>\n",
       "<style scoped>\n",
       "    .dataframe tbody tr th:only-of-type {\n",
       "        vertical-align: middle;\n",
       "    }\n",
       "\n",
       "    .dataframe tbody tr th {\n",
       "        vertical-align: top;\n",
       "    }\n",
       "\n",
       "    .dataframe thead th {\n",
       "        text-align: right;\n",
       "    }\n",
       "</style>\n",
       "<table border=\"1\" class=\"dataframe\">\n",
       "  <thead>\n",
       "    <tr style=\"text-align: right;\">\n",
       "      <th></th>\n",
       "      <th>app_name</th>\n",
       "      <th>count_before_midpoint</th>\n",
       "      <th>count_after_midpoint</th>\n",
       "    </tr>\n",
       "  </thead>\n",
       "  <tbody>\n",
       "    <tr>\n",
       "      <th>0</th>\n",
       "      <td>birth-control-pill-reminder</td>\n",
       "      <td>7</td>\n",
       "      <td>2</td>\n",
       "    </tr>\n",
       "    <tr>\n",
       "      <th>1</th>\n",
       "      <td>clue-period-tracker-calendar</td>\n",
       "      <td>864</td>\n",
       "      <td>1663</td>\n",
       "    </tr>\n",
       "    <tr>\n",
       "      <th>2</th>\n",
       "      <td>flo-period-pregnancy-tracker</td>\n",
       "      <td>1833</td>\n",
       "      <td>3441</td>\n",
       "    </tr>\n",
       "    <tr>\n",
       "      <th>3</th>\n",
       "      <td>mypill-birth-control-reminder</td>\n",
       "      <td>14</td>\n",
       "      <td>4</td>\n",
       "    </tr>\n",
       "    <tr>\n",
       "      <th>4</th>\n",
       "      <td>natural-cycles-birth-control</td>\n",
       "      <td>71</td>\n",
       "      <td>166</td>\n",
       "    </tr>\n",
       "    <tr>\n",
       "      <th>5</th>\n",
       "      <td>nurx-birth-control-delivered</td>\n",
       "      <td>255</td>\n",
       "      <td>420</td>\n",
       "    </tr>\n",
       "    <tr>\n",
       "      <th>6</th>\n",
       "      <td>planned-parenthood-direct</td>\n",
       "      <td>50</td>\n",
       "      <td>35</td>\n",
       "    </tr>\n",
       "    <tr>\n",
       "      <th>7</th>\n",
       "      <td>Total</td>\n",
       "      <td>3094</td>\n",
       "      <td>5731</td>\n",
       "    </tr>\n",
       "  </tbody>\n",
       "</table>\n",
       "</div>"
      ],
      "text/plain": [
       "                        app_name  count_before_midpoint  count_after_midpoint\n",
       "0    birth-control-pill-reminder                      7                     2\n",
       "1   clue-period-tracker-calendar                    864                  1663\n",
       "2   flo-period-pregnancy-tracker                   1833                  3441\n",
       "3  mypill-birth-control-reminder                     14                     4\n",
       "4   natural-cycles-birth-control                     71                   166\n",
       "5   nurx-birth-control-delivered                    255                   420\n",
       "6      planned-parenthood-direct                     50                    35\n",
       "7                          Total                   3094                  5731"
      ]
     },
     "execution_count": 46,
     "metadata": {},
     "output_type": "execute_result"
    }
   ],
   "source": [
    "import pandas as pd\n",
    "\n",
    "# Load your CSV file into a DataFrame\n",
    "df = pd.read_csv('all_7apps_reviews.csv')\n",
    "\n",
    "# Convert the \"date\" column to datetime format\n",
    "df['date'] = pd.to_datetime(df['date'], format='%Y-%m-%d %H:%M:%S')\n",
    "\n",
    "# Filter the DataFrame to include only negative reviews (1 and 2-star ratings)\n",
    "negative_reviews = df[df['rating'].isin([1, 2])]\n",
    "\n",
    "# Separate the negative reviews based on the \"date\" column\n",
    "midpoint_date = pd.Timestamp('2022-05-02')\n",
    "group_1_negative_reviews = negative_reviews[negative_reviews['date'] < midpoint_date]\n",
    "group_2_negative_reviews = negative_reviews[negative_reviews['date'] >= midpoint_date]\n",
    "\n",
    "# Group by the \"app_name\" column and count the number of negative reviews for each app before and after the midpoint\n",
    "group_1_counts = group_1_negative_reviews.groupby('app_name').size().reset_index(name='count_before_midpoint')\n",
    "group_2_counts = group_2_negative_reviews.groupby('app_name').size().reset_index(name='count_after_midpoint')\n",
    "\n",
    "# Merge the counts for both groups\n",
    "merged_counts = pd.merge(group_1_counts, group_2_counts, on='app_name', how='outer').fillna(0)\n",
    "\n",
    "# Add a row at the end to count the total negative reviews for all apps before and after the midpoint\n",
    "total_before_midpoint = merged_counts['count_before_midpoint'].sum()\n",
    "total_after_midpoint = merged_counts['count_after_midpoint'].sum()\n",
    "\n",
    "total_row = pd.DataFrame({'app_name': 'Total', 'count_before_midpoint': total_before_midpoint, 'count_after_midpoint': total_after_midpoint}, index=[len(merged_counts)])\n",
    "\n",
    "merged_counts = merged_counts.append(total_row, ignore_index=True)\n",
    "merged_counts"
   ]
  },
  {
   "cell_type": "markdown",
   "id": "9879eef5",
   "metadata": {},
   "source": [
    "### 2) Separate the negative reviews based on the midpoint and save them as two csv files"
   ]
  },
  {
   "cell_type": "code",
   "execution_count": 47,
   "id": "32d04f0c",
   "metadata": {},
   "outputs": [],
   "source": [
    "# Load your CSV file into a DataFrame\n",
    "df = pd.read_csv('all_7apps_reviews.csv')\n",
    "\n",
    "# Filter the DataFrame to include only reviews with 1 and 2-star ratings\n",
    "filtered_df = df[df['rating'].isin([1, 2])]\n",
    "\n",
    "# Separate the negative reviews based on the \"date\" column\n",
    "midpoint_date = pd.Timestamp('2022-05-02')\n",
    "\n",
    "# Before Roe leaked\n",
    "group_1 = negative_reviews[negative_reviews['date'] < midpoint_date]\n",
    "# After Roe leaked\n",
    "group_2 = negative_reviews[negative_reviews['date'] >= midpoint_date]\n",
    "\n",
    "# Save the separated negative reviews to new CSV files\n",
    "#group_1.to_csv('group1_negative_reviews.csv', index=False)\n",
    "#group_2.to_csv('group2_negative_reviews.csv', index=False)"
   ]
  },
  {
   "cell_type": "markdown",
   "id": "661e89a4",
   "metadata": {},
   "source": [
    "### 3) Select random samples from Group 1"
   ]
  },
  {
   "cell_type": "code",
   "execution_count": 48,
   "id": "c440b647",
   "metadata": {},
   "outputs": [],
   "source": [
    "# Load the group1_negative_reviews.csv file into a DataFrame\n",
    "group1_df = pd.read_csv('group1_negative_reviews.csv')\n",
    "\n",
    "# Define the app names for which to select samples\n",
    "apps_5percent = ['nurx-birth-control-delivered', 'natural-cycles-birth-control','planned-parenthood-direct','flo-period-pregnancy-tracker', 'clue-period-tracker-calendar']\n",
    "apps_50percent = ['mypill-birth-control-reminder', 'birth-control-pill-reminder']\n",
    "\n",
    "# Select 5% of reviews for each of the apps in apps_5percent\n",
    "group1_samples_5percent = group1_df[group1_df['app_name'].isin(apps_5percent)].sample(frac=0.05, random_state=42)\n",
    "\n",
    "# Select 50% of reviews for each of the apps in apps_50percent\n",
    "group1_samples_50percent = group1_df[group1_df['app_name'].isin(apps_50percent)].sample(frac=0.5, random_state=42)\n",
    "\n",
    "# Combine the two samples\n",
    "group1_samples = pd.concat([group1_samples_5percent, group1_samples_50percent])\n",
    "group1_samples\n",
    "\n",
    "# Save the combined sample to a new CSV file\n",
    "#group1_samples.to_csv('group1_samples.csv', index=False)"
   ]
  },
  {
   "cell_type": "code",
   "execution_count": null,
   "id": "9d94e41b",
   "metadata": {},
   "outputs": [],
   "source": []
  },
  {
   "cell_type": "markdown",
   "id": "ac9594ff",
   "metadata": {},
   "source": [
    "### 4) Select random samples from Group 2"
   ]
  },
  {
   "cell_type": "code",
   "execution_count": 49,
   "id": "3b4219e1",
   "metadata": {},
   "outputs": [],
   "source": [
    "# Load the group2_negative_reviews.csv file into a DataFrame\n",
    "group2_df = pd.read_csv('group2_negative_reviews.csv')\n",
    "\n",
    "# Define the app names for which to select samples\n",
    "apps_5percent = ['nurx-birth-control-delivered', 'natural-cycles-birth-control','planned-parenthood-direct','flo-period-pregnancy-tracker', 'clue-period-tracker-calendar']\n",
    "apps_50percent = ['mypill-birth-control-reminder', 'birth-control-pill-reminder']\n",
    "\n",
    "# Select 5% of reviews for each of the apps in apps_5percent\n",
    "group2_samples_5percent = group2_df[group2_df['app_name'].isin(apps_5percent)].sample(frac=0.05, random_state=42)\n",
    "\n",
    "# Select 50% of reviews for each of the apps in apps_50percent\n",
    "group2_samples_50percent = group2_df[group2_df['app_name'].isin(apps_50percent)].sample(frac=0.5, random_state=42)\n",
    "\n",
    "# Combine the two samples\n",
    "group2_samples = pd.concat([group2_samples_5percent, group2_samples_50percent])\n",
    "group2_samples\n",
    "\n",
    "# Save the combined sample to a new CSV file\n",
    "#group2_samples.to_csv('group2_samples.csv', index=False)"
   ]
  },
  {
   "cell_type": "code",
   "execution_count": null,
   "id": "67835a33",
   "metadata": {},
   "outputs": [],
   "source": []
  },
  {
   "cell_type": "code",
   "execution_count": null,
   "id": "4e7f42fe",
   "metadata": {},
   "outputs": [],
   "source": []
  },
  {
   "cell_type": "code",
   "execution_count": null,
   "id": "051c2247",
   "metadata": {},
   "outputs": [],
   "source": []
  }
 ],
 "metadata": {
  "kernelspec": {
   "display_name": "Python 3 (ipykernel)",
   "language": "python",
   "name": "python3"
  },
  "language_info": {
   "codemirror_mode": {
    "name": "ipython",
    "version": 3
   },
   "file_extension": ".py",
   "mimetype": "text/x-python",
   "name": "python",
   "nbconvert_exporter": "python",
   "pygments_lexer": "ipython3",
   "version": "3.10.3"
  }
 },
 "nbformat": 4,
 "nbformat_minor": 5
}
