{
 "cells": [
  {
   "cell_type": "markdown",
   "id": "682a09d3",
   "metadata": {},
   "source": [
    "## 1. Drag Unlabeled Data"
   ]
  },
  {
   "cell_type": "markdown",
   "id": "ae88c986",
   "metadata": {},
   "source": [
    "### 1) Group 1: Save the remaining data as \"group1_unlabeled_data.csv\""
   ]
  },
  {
   "cell_type": "code",
   "execution_count": 1,
   "id": "a4712a69",
   "metadata": {},
   "outputs": [],
   "source": [
    "import pandas as pd\n",
    "\n",
    "# Load original dataset and training data\n",
    "group1_df = pd.read_csv('group1_negative_reviews.csv') # all negative reviews from group 1\n",
    "group1_training_data = pd.read_csv('group1_samples.csv') # selected sample reviews from group 1\n",
    "\n",
    "# 'date' is the unique identifier for each review\n",
    "group1_unlabeled_data = group1_df[~group1_df['date'].isin(group1_training_data['date'])]\n",
    "\n",
    "# Save the unlabeled data to a CSV file\n",
    "# group1_unlabeled_data.to_csv('group1_unlabeled_data.csv', index=False)"
   ]
  },
  {
   "cell_type": "code",
   "execution_count": 2,
   "id": "9c38a950",
   "metadata": {},
   "outputs": [
    {
     "data": {
      "text/plain": [
       "2930"
      ]
     },
     "execution_count": 2,
     "metadata": {},
     "output_type": "execute_result"
    }
   ],
   "source": [
    "len(group1_unlabeled_data)"
   ]
  },
  {
   "cell_type": "markdown",
   "id": "939e0a4f",
   "metadata": {},
   "source": [
    "### 2) Group 2: Save the remaining data as \"group2_unlabeled_data.csv\""
   ]
  },
  {
   "cell_type": "code",
   "execution_count": 3,
   "id": "811f5a87",
   "metadata": {},
   "outputs": [],
   "source": [
    "# Load original dataset and training data\n",
    "group2_df = pd.read_csv('group2_negative_reviews.csv') # all negative reviews from group 2\n",
    "group2_training_data = pd.read_csv('group2_samples.csv') # selected sample reviews from group 2\n",
    "\n",
    "# 'date' is the unique identifier for each review\n",
    "group2_unlabeled_data = group2_df[~group2_df['date'].isin(group2_training_data['date'])]\n",
    "\n",
    "# Save the unlabeled data to a CSV file\n",
    "# group2_unlabeled_data.to_csv('group2_unlabeled_data.csv', index=False)"
   ]
  },
  {
   "cell_type": "code",
   "execution_count": 4,
   "id": "3ccfa31b",
   "metadata": {},
   "outputs": [
    {
     "data": {
      "text/plain": [
       "5442"
      ]
     },
     "execution_count": 4,
     "metadata": {},
     "output_type": "execute_result"
    }
   ],
   "source": [
    "len(group2_unlabeled_data)"
   ]
  },
  {
   "cell_type": "markdown",
   "id": "a32fb779",
   "metadata": {},
   "source": [
    "### 3) Group 1: Filter unlabeled data based on functinality"
   ]
  },
  {
   "cell_type": "code",
   "execution_count": 5,
   "id": "f0859477",
   "metadata": {},
   "outputs": [],
   "source": [
    "# Filter the data based on the 'app_name' column\n",
    "group1_unlabeled_data_pt = group1_unlabeled_data[group1_unlabeled_data['app_name'].isin(['flo-period-pregnancy-tracker', 'clue-period-tracker-calendar'])]\n",
    "group1_unlabeled_data_bc = group1_unlabeled_data[~group1_unlabeled_data['app_name'].isin(['flo-period-pregnancy-tracker', 'clue-period-tracker-calendar'])]\n",
    "\n",
    "# Save the filtered data into separate CSV files\n",
    "#group1_unlabeled_data_pt.to_csv('group1_collection2_pt_unlabeled.csv', index=False)\n",
    "#group1_unlabeled_data_bc.to_csv('group1_collection1_bc_unlabeled.csv', index=False)"
   ]
  },
  {
   "cell_type": "markdown",
   "id": "5936931d",
   "metadata": {},
   "source": [
    "### 4) Group 2: Filter unlabeled data based on functinality"
   ]
  },
  {
   "cell_type": "code",
   "execution_count": 6,
   "id": "314de570",
   "metadata": {},
   "outputs": [],
   "source": [
    "# Filter the data based on the 'app_name' column\n",
    "group2_unlabeled_data_pt = group2_unlabeled_data[group2_unlabeled_data['app_name'].isin(['flo-period-pregnancy-tracker', 'clue-period-tracker-calendar'])]\n",
    "group2_unlabeled_data_bc = group2_unlabeled_data[~group2_unlabeled_data['app_name'].isin(['flo-period-pregnancy-tracker', 'clue-period-tracker-calendar'])]\n",
    "\n",
    "# Save the filtered data into separate CSV files\n",
    "#group2_unlabeled_data_pt.to_csv('group2_collection2_pt_unlabeled.csv', index=False)\n",
    "#group2_unlabeled_data_bc.to_csv('group2_collection1_bc_unlabeled.csv', index=False)"
   ]
  },
  {
   "cell_type": "markdown",
   "id": "e3ecc849",
   "metadata": {},
   "source": [
    "### 5)  Combine unlabeled datasets based on collection"
   ]
  },
  {
   "cell_type": "code",
   "execution_count": 8,
   "id": "ac5bd594",
   "metadata": {},
   "outputs": [],
   "source": [
    "# Concatenate the two dataframes\n",
    "combined_pt_unlabeled = pd.concat([group1_unlabeled_data_pt, group2_unlabeled_data_pt], ignore_index=True)\n",
    "\n",
    "# Save the combined dataframe to a new CSV file\n",
    "#combined_pt_unlabeled.to_csv('combined_pt_unlabeled.csv', index=False)"
   ]
  },
  {
   "cell_type": "code",
   "execution_count": 103,
   "id": "2bbf5d88",
   "metadata": {},
   "outputs": [],
   "source": [
    "# Concatenate the two dataframes\n",
    "combined_bc_unlabeled = pd.concat([group1_unlabeled_data_bc, group2_unlabeled_data_bc], ignore_index=True)\n",
    "\n",
    "# Save the combined dataframe to a new CSV file\n",
    "#combined_bc_unlabeled.to_csv('combined_bc_unlabeled.csv', index=False)"
   ]
  },
  {
   "cell_type": "markdown",
   "id": "79729d01",
   "metadata": {},
   "source": [
    "## 2. Combine Labeled Data based on collection"
   ]
  },
  {
   "cell_type": "code",
   "execution_count": 121,
   "id": "c182a0a3",
   "metadata": {},
   "outputs": [],
   "source": [
    "# Load labeled data from Collection 1\n",
    "group1_collection1_bc_tagged = pd.read_csv('group1_samples (beforeRoe) - group1_collection1_bc_samples.csv') \n",
    "group2_collection1_bc_tagged = pd.read_csv('group2_samples (postRoe) - group2_collection1_bc_samples.csv') \n",
    "\n",
    "# Concatenate the two dataframes\n",
    "combined_bc_tagged = pd.concat([group1_collection1_bc_tagged, group2_collection1_bc_tagged], ignore_index=True)\n",
    "\n",
    "# Save the combined dataframe to a new CSV file\n",
    "#combined_bc_tagged.to_csv('combined_bc_tagged.csv', index=False)"
   ]
  },
  {
   "cell_type": "code",
   "execution_count": 123,
   "id": "f6c8c925",
   "metadata": {},
   "outputs": [],
   "source": [
    "# Load labeled data from Collection 2\n",
    "group1_collection2_pt_tagged = pd.read_csv('group1_samples (beforeRoe) - group1_collection2_pt_samples.csv') \n",
    "group2_collection2_pt_tagged = pd.read_csv('group2_samples (postRoe) - group2_collection2_pt_samples.csv') \n",
    "\n",
    "# Concatenate the two dataframes\n",
    "combined_pt_tagged = pd.concat([group1_collection2_pt_tagged, group2_collection2_pt_tagged], ignore_index=True)\n",
    "\n",
    "# Save the combined dataframe to a new CSV file\n",
    "#combined_pt_tagged.to_csv('combined_pt_tagged.csv', index=False)"
   ]
  },
  {
   "cell_type": "code",
   "execution_count": null,
   "id": "bdaedf97",
   "metadata": {},
   "outputs": [],
   "source": []
  },
  {
   "cell_type": "code",
   "execution_count": null,
   "id": "6673ce63",
   "metadata": {},
   "outputs": [],
   "source": []
  },
  {
   "cell_type": "code",
   "execution_count": null,
   "id": "97dbc96e",
   "metadata": {},
   "outputs": [],
   "source": []
  },
  {
   "cell_type": "code",
   "execution_count": null,
   "id": "de840333",
   "metadata": {},
   "outputs": [],
   "source": []
  },
  {
   "cell_type": "code",
   "execution_count": null,
   "id": "53ff85e9",
   "metadata": {},
   "outputs": [],
   "source": []
  }
 ],
 "metadata": {
  "kernelspec": {
   "display_name": "Python 3 (ipykernel)",
   "language": "python",
   "name": "python3"
  },
  "language_info": {
   "codemirror_mode": {
    "name": "ipython",
    "version": 3
   },
   "file_extension": ".py",
   "mimetype": "text/x-python",
   "name": "python",
   "nbconvert_exporter": "python",
   "pygments_lexer": "ipython3",
   "version": "3.10.3"
  }
 },
 "nbformat": 4,
 "nbformat_minor": 5
}
