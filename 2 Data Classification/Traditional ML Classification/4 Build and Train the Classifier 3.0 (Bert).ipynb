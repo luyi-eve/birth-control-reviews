{
 "cells": [
  {
   "cell_type": "markdown",
   "id": "27e836e4",
   "metadata": {},
   "source": [
    "## 4 Build and Train the Classifier 3.0 (Bert) ❌\n",
    "\n",
    "In this notebook, I attempted another approach to troubleshoot imbalance data problem. I utilized a pre-trained language model [BERT](https://huggingface.co/docs/transformers/en/model_doc/bert) to leverage its broader understanding. However, the predicted results still remained skewed due to imbalanced data. \n",
    "\n",
    "### **1) Collection 1**\n",
    "- **Training Data - combined_bc_tagged.csv** - This file contains all the manually tagged data from before and after the overturn, covering 5 apps focused on birth control.\n",
    "- **Unlabeled Data - combined_bc_unlabeled.csv** - This file contains all the unlabeled data from before and after the overturn, covering 5 Birth-Control-Oriented Apps (Collection 1).\n",
    "\n",
    "\n",
    "### **2) Collection 2**\n",
    "- **Training Data - combined_pt_unlabeled.csv** - This file includes all the unlabeled data from before and after the overturn, covering 2 Period-and-Fertility-Tracking Apps (Collection 2).\n",
    "\n",
    "- **Unlabeled Data - combined_pt_tagged.csv** - This file contains all the manually tagged data from before and after the overturn, covering 2 Period-and-Fertility-Tracking Apps (Collection 2).\n"
   ]
  },
  {
   "cell_type": "markdown",
   "id": "3e55bf85",
   "metadata": {},
   "source": [
    "## Collection 1 - Birth-Control-Oriented Apps (x5)"
   ]
  },
  {
   "cell_type": "code",
   "execution_count": 1,
   "id": "23f20f75",
   "metadata": {},
   "outputs": [],
   "source": [
    "#!pip install transformers pandas scikit-learn torch"
   ]
  },
  {
   "cell_type": "markdown",
   "id": "68b7bbb5",
   "metadata": {},
   "source": [
    "### Step 1: Load the necessary libraries and data"
   ]
  },
  {
   "cell_type": "code",
   "execution_count": 2,
   "id": "fa8dfb59",
   "metadata": {},
   "outputs": [],
   "source": [
    "import pandas as pd\n",
    "from sklearn.model_selection import train_test_split\n",
    "from transformers import BertTokenizer\n",
    "import torch\n",
    "from transformers import BertForSequenceClassification, Trainer, TrainingArguments\n",
    "from sklearn.preprocessing import MultiLabelBinarizer\n",
    "from torch.utils.data import DataLoader, Dataset\n",
    "from sklearn.metrics import f1_score\n",
    "\n",
    "# Load the training and unlabeled data\n",
    "train_data = pd.read_csv('combined_bc_tagged.csv')\n",
    "unlabeled_data = pd.read_csv('combined_bc_unlabeled.csv')\n"
   ]
  },
  {
   "cell_type": "markdown",
   "id": "6d4aedd1",
   "metadata": {},
   "source": [
    "### Step 2: Split the training data into training and validation sets"
   ]
  },
  {
   "cell_type": "code",
   "execution_count": 3,
   "id": "02ab2eee",
   "metadata": {},
   "outputs": [],
   "source": [
    "# Split the training data into training and validation sets\n",
    "train_df, val_df = train_test_split(train_data, test_size=0.2, random_state=42)"
   ]
  },
  {
   "cell_type": "markdown",
   "id": "2448d800",
   "metadata": {},
   "source": [
    "### Step 3: Initialize the tokenizer"
   ]
  },
  {
   "cell_type": "code",
   "execution_count": 4,
   "id": "67c19b4a",
   "metadata": {},
   "outputs": [],
   "source": [
    "# Initialize the tokenizer\n",
    "tokenizer = BertTokenizer.from_pretrained('bert-base-uncased')"
   ]
  },
  {
   "cell_type": "markdown",
   "id": "dd36d4e2",
   "metadata": {},
   "source": [
    "### Step 4: Tokenize the reviews"
   ]
  },
  {
   "cell_type": "code",
   "execution_count": 5,
   "id": "9f47e910",
   "metadata": {},
   "outputs": [],
   "source": [
    "def tokenize_data(data, max_length=256):\n",
    "    return tokenizer(\n",
    "        data['review'].tolist(),\n",
    "        padding=True,\n",
    "        truncation=True,\n",
    "        max_length=max_length,\n",
    "        return_tensors='pt'\n",
    "    )\n",
    "\n",
    "train_tokens = tokenize_data(train_df)\n",
    "val_tokens = tokenize_data(val_df)\n",
    "unlabeled_tokens = tokenize_data(unlabeled_data)\n"
   ]
  },
  {
   "cell_type": "markdown",
   "id": "2210cbce",
   "metadata": {},
   "source": [
    "### Step 5: Define category definitions"
   ]
  },
  {
   "cell_type": "code",
   "execution_count": 6,
   "id": "e6ec922b",
   "metadata": {},
   "outputs": [],
   "source": [
    "category_definitions = {\n",
    "    'l1_inaccurate_cycle_prediction': 'The cycle prediction algorithm of the app is inaccurate, sometimes leading to unplanned pregnancies.',\n",
    "    'l2_delayed_customer_service': 'Difficulty in contacting customer service and long wait times, which oftentimes result in late or inaccurate deliveries of prescriptions and medications.',\n",
    "    'l3_poor_prescription_management': 'Users experience issues such as missing or incorrect prescriptions, incorrect birth control medications, inaccurate refill frequencies, late deliveries, and canceled medications.',\n",
    "    'l4_problematic_billing_practices': 'Users encounter unexpected charges including but not limited to auto-renewals without notification, and charges on old credit cards without refunds, or they fail to use the current insurance plan for insurance billing.'\n",
    "}\n"
   ]
  },
  {
   "cell_type": "markdown",
   "id": "cfe39195",
   "metadata": {},
   "source": [
    "### Step 6: Prepare labels for training and validation"
   ]
  },
  {
   "cell_type": "code",
   "execution_count": 7,
   "id": "3f42272d",
   "metadata": {},
   "outputs": [
    {
     "name": "stderr",
     "output_type": "stream",
     "text": [
      "/Users/luyi/.pyenv/versions/3.10.3/lib/python3.10/site-packages/sklearn/preprocessing/_label.py:878: UserWarning: unknown class(es) [0, 1] will be ignored\n",
      "  warnings.warn(\n",
      "/Users/luyi/.pyenv/versions/3.10.3/lib/python3.10/site-packages/sklearn/preprocessing/_label.py:878: UserWarning: unknown class(es) [0, 1] will be ignored\n",
      "  warnings.warn(\n"
     ]
    }
   ],
   "source": [
    "mlb = MultiLabelBinarizer(classes=list(category_definitions.keys()))\n",
    "train_labels = mlb.fit_transform(train_df[list(category_definitions.keys())].values)\n",
    "val_labels = mlb.fit_transform(val_df[list(category_definitions.keys())].values)\n"
   ]
  },
  {
   "cell_type": "markdown",
   "id": "ec206f0f",
   "metadata": {},
   "source": [
    "### Step 7: Print the classes to ensure they match the keys in category_definitions"
   ]
  },
  {
   "cell_type": "code",
   "execution_count": 8,
   "id": "202cec0f",
   "metadata": {},
   "outputs": [
    {
     "name": "stdout",
     "output_type": "stream",
     "text": [
      "mlb.classes_: ['l1_inaccurate_cycle_prediction' 'l2_delayed_customer_service'\n",
      " 'l3_poor_prescription_management' 'l4_problematic_billing_practices']\n"
     ]
    }
   ],
   "source": [
    "print(\"mlb.classes_:\", mlb.classes_)\n",
    "for cls in mlb.classes_:\n",
    "    if cls not in category_definitions:\n",
    "        raise KeyError(f\"Definition for class {cls} not found in category_definitions.\")\n"
   ]
  },
  {
   "cell_type": "markdown",
   "id": "6a81c855",
   "metadata": {},
   "source": [
    "### Step 8: Create a combined input for BERT"
   ]
  },
  {
   "cell_type": "code",
   "execution_count": 9,
   "id": "da38b152",
   "metadata": {},
   "outputs": [],
   "source": [
    "def create_combined_input(reviews, definitions, labels):\n",
    "    combined_inputs = []\n",
    "    for review, label_set in zip(reviews, labels):\n",
    "        combined_review = review\n",
    "        for idx, label in enumerate(label_set):\n",
    "            if label == 1:\n",
    "                combined_review += ' ' + definitions[mlb.classes_[idx]]\n",
    "        combined_inputs.append(combined_review)\n",
    "    return combined_inputs\n",
    "\n",
    "combined_train_inputs = create_combined_input(train_df['review'], category_definitions, train_labels)\n",
    "combined_val_inputs = create_combined_input(val_df['review'], category_definitions, val_labels)\n"
   ]
  },
  {
   "cell_type": "markdown",
   "id": "f2aefc49",
   "metadata": {},
   "source": [
    "### Step 9: Tokenize the combined inputs"
   ]
  },
  {
   "cell_type": "code",
   "execution_count": 10,
   "id": "deb00b74",
   "metadata": {},
   "outputs": [],
   "source": [
    "train_tokens = tokenizer(\n",
    "    combined_train_inputs,\n",
    "    padding=True,\n",
    "    truncation=True,\n",
    "    max_length=256,\n",
    "    return_tensors='pt'\n",
    ")\n",
    "val_tokens = tokenizer(\n",
    "    combined_val_inputs,\n",
    "    padding=True,\n",
    "    truncation=True,\n",
    "    max_length=256,\n",
    "    return_tensors='pt'\n",
    ")\n"
   ]
  },
  {
   "cell_type": "markdown",
   "id": "deae931d",
   "metadata": {},
   "source": [
    "### Step 10: Create a dataset class"
   ]
  },
  {
   "cell_type": "code",
   "execution_count": 11,
   "id": "ad1c634b",
   "metadata": {},
   "outputs": [],
   "source": [
    "class ReviewDataset(Dataset):\n",
    "    def __init__(self, encodings, labels=None):\n",
    "        self.encodings = encodings\n",
    "        self.labels = labels\n",
    "\n",
    "    def __getitem__(self, idx):\n",
    "        item = {key: val[idx] for key, val in self.encodings.items()}\n",
    "        if self.labels is not None:\n",
    "            item['labels'] = torch.tensor(self.labels[idx]).float()\n",
    "        return item\n",
    "\n",
    "    def __len__(self):\n",
    "        return len(self.encodings['input_ids'])\n"
   ]
  },
  {
   "cell_type": "code",
   "execution_count": null,
   "id": "39a0c5a1",
   "metadata": {},
   "outputs": [],
   "source": [
    "#Step 11: Check if the lengths of inputs and targets match:"
   ]
  },
  {
   "cell_type": "code",
   "execution_count": 12,
   "id": "7d2be150",
   "metadata": {},
   "outputs": [],
   "source": [
    "assert len(train_tokens['input_ids']) == len(train_labels), \"Mismatch between input and target lengths\"\n",
    "assert len(val_tokens['input_ids']) == len(val_labels), \"Mismatch between validation input and target lengths\""
   ]
  },
  {
   "cell_type": "code",
   "execution_count": 13,
   "id": "bd9da817",
   "metadata": {},
   "outputs": [],
   "source": [
    "#Step 12: Prepare datasets"
   ]
  },
  {
   "cell_type": "code",
   "execution_count": 14,
   "id": "efe340dc",
   "metadata": {},
   "outputs": [],
   "source": [
    "train_dataset = ReviewDataset(train_tokens, train_labels)\n",
    "val_dataset = ReviewDataset(val_tokens, val_labels)"
   ]
  },
  {
   "cell_type": "code",
   "execution_count": null,
   "id": "aed08c10",
   "metadata": {},
   "outputs": [],
   "source": [
    "#Step 13: Create DataLoaders to batch the data"
   ]
  },
  {
   "cell_type": "code",
   "execution_count": 15,
   "id": "cccb072f",
   "metadata": {},
   "outputs": [],
   "source": [
    "train_dataloader = DataLoader(train_dataset, batch_size=8, shuffle=True)\n",
    "val_dataloader = DataLoader(val_dataset, batch_size=8, shuffle=False)"
   ]
  },
  {
   "cell_type": "code",
   "execution_count": null,
   "id": "cb0eb64c",
   "metadata": {},
   "outputs": [],
   "source": [
    "#Step 14: Set up training arguments"
   ]
  },
  {
   "cell_type": "code",
   "execution_count": 16,
   "id": "ad9ccf91",
   "metadata": {},
   "outputs": [
    {
     "name": "stderr",
     "output_type": "stream",
     "text": [
      "/Users/luyi/.pyenv/versions/3.10.3/lib/python3.10/site-packages/transformers/training_args.py:1474: FutureWarning: `evaluation_strategy` is deprecated and will be removed in version 4.46 of 🤗 Transformers. Use `eval_strategy` instead\n",
      "  warnings.warn(\n"
     ]
    }
   ],
   "source": [
    "training_args = TrainingArguments(\n",
    "    output_dir='./results',\n",
    "    num_train_epochs=3,\n",
    "    per_device_train_batch_size=8,\n",
    "    per_device_eval_batch_size=8,\n",
    "    warmup_steps=500,\n",
    "    weight_decay=0.01,\n",
    "    logging_dir='./logs',\n",
    "    logging_steps=10,\n",
    "    evaluation_strategy=\"epoch\"\n",
    ")\n"
   ]
  },
  {
   "cell_type": "code",
   "execution_count": 17,
   "id": "f12553f7",
   "metadata": {},
   "outputs": [],
   "source": [
    "#Step 15: Create the model"
   ]
  },
  {
   "cell_type": "code",
   "execution_count": 18,
   "id": "8402cf17",
   "metadata": {},
   "outputs": [
    {
     "name": "stderr",
     "output_type": "stream",
     "text": [
      "Some weights of BertForSequenceClassification were not initialized from the model checkpoint at bert-base-uncased and are newly initialized: ['classifier.bias', 'classifier.weight']\n",
      "You should probably TRAIN this model on a down-stream task to be able to use it for predictions and inference.\n"
     ]
    }
   ],
   "source": [
    "model = BertForSequenceClassification.from_pretrained('bert-base-uncased', num_labels=len(mlb.classes_))\n"
   ]
  },
  {
   "cell_type": "code",
   "execution_count": null,
   "id": "50aeb0e6",
   "metadata": {},
   "outputs": [],
   "source": [
    "#Step 16: Create the trainer"
   ]
  },
  {
   "cell_type": "code",
   "execution_count": 21,
   "id": "17a66e8c",
   "metadata": {},
   "outputs": [],
   "source": [
    "trainer = Trainer(\n",
    "    model=model,\n",
    "    args=training_args,\n",
    "    train_dataset=train_dataset,\n",
    "    eval_dataset=val_dataset,\n",
    "    tokenizer=tokenizer\n",
    ")\n"
   ]
  },
  {
   "cell_type": "code",
   "execution_count": 22,
   "id": "6d10a1e2",
   "metadata": {},
   "outputs": [],
   "source": [
    "#Step 17: Train the model"
   ]
  },
  {
   "cell_type": "code",
   "execution_count": 23,
   "id": "668d961a",
   "metadata": {},
   "outputs": [
    {
     "data": {
      "text/html": [
       "\n",
       "    <div>\n",
       "      \n",
       "      <progress value='27' max='27' style='width:300px; height:20px; vertical-align: middle;'></progress>\n",
       "      [27/27 03:00, Epoch 3/3]\n",
       "    </div>\n",
       "    <table border=\"1\" class=\"dataframe\">\n",
       "  <thead>\n",
       " <tr style=\"text-align: left;\">\n",
       "      <th>Epoch</th>\n",
       "      <th>Training Loss</th>\n",
       "      <th>Validation Loss</th>\n",
       "    </tr>\n",
       "  </thead>\n",
       "  <tbody>\n",
       "    <tr>\n",
       "      <td>1</td>\n",
       "      <td>No log</td>\n",
       "      <td>0.795628</td>\n",
       "    </tr>\n",
       "    <tr>\n",
       "      <td>2</td>\n",
       "      <td>0.804700</td>\n",
       "      <td>0.743747</td>\n",
       "    </tr>\n",
       "    <tr>\n",
       "      <td>3</td>\n",
       "      <td>0.759800</td>\n",
       "      <td>0.637527</td>\n",
       "    </tr>\n",
       "  </tbody>\n",
       "</table><p>"
      ],
      "text/plain": [
       "<IPython.core.display.HTML object>"
      ]
     },
     "metadata": {},
     "output_type": "display_data"
    },
    {
     "data": {
      "text/plain": [
       "TrainOutput(global_step=27, training_loss=0.7588075002034506, metrics={'train_runtime': 187.7616, 'train_samples_per_second': 1.134, 'train_steps_per_second': 0.144, 'total_flos': 28021830580224.0, 'train_loss': 0.7588075002034506, 'epoch': 3.0})"
      ]
     },
     "execution_count": 23,
     "metadata": {},
     "output_type": "execute_result"
    }
   ],
   "source": [
    "trainer.train()"
   ]
  },
  {
   "cell_type": "code",
   "execution_count": null,
   "id": "a3b0b5b5",
   "metadata": {},
   "outputs": [],
   "source": [
    "#Step 18: Evaluate the model on the validation set"
   ]
  },
  {
   "cell_type": "code",
   "execution_count": 24,
   "id": "c40c460e",
   "metadata": {},
   "outputs": [
    {
     "data": {
      "text/html": [],
      "text/plain": [
       "<IPython.core.display.HTML object>"
      ]
     },
     "metadata": {},
     "output_type": "display_data"
    },
    {
     "name": "stdout",
     "output_type": "stream",
     "text": [
      "F1 Score: 0.0\n"
     ]
    }
   ],
   "source": [
    "val_predictions = trainer.predict(val_dataset)\n",
    "val_predicted_labels = torch.sigmoid(torch.tensor(val_predictions.predictions)).numpy()\n",
    "val_predicted_labels = (val_predicted_labels > 0.5).astype(int)\n",
    "f1 = f1_score(val_labels, val_predicted_labels, average='micro')\n",
    "print(f\"F1 Score: {f1}\")"
   ]
  },
  {
   "cell_type": "code",
   "execution_count": null,
   "id": "e7abeb17",
   "metadata": {},
   "outputs": [],
   "source": [
    "#Step 19: Make predictions on the unlabeled data and save the predictions to a new CSV file"
   ]
  },
  {
   "cell_type": "code",
   "execution_count": 26,
   "id": "8046d787",
   "metadata": {},
   "outputs": [
    {
     "data": {
      "text/html": [],
      "text/plain": [
       "<IPython.core.display.HTML object>"
      ]
     },
     "metadata": {},
     "output_type": "display_data"
    }
   ],
   "source": [
    "# Tokenize unlabeled data\n",
    "unlabeled_combined_inputs = create_combined_input(unlabeled_data['review'], category_definitions, [[0]*len(category_definitions)]*len(unlabeled_data))\n",
    "unlabeled_tokens = tokenizer(\n",
    "    unlabeled_combined_inputs,\n",
    "    padding=True,\n",
    "    truncation=True,\n",
    "    max_length=256,\n",
    "    return_tensors='pt'\n",
    ")\n",
    "\n",
    "# Create dataset and dataloader for unlabeled data\n",
    "unlabeled_dataset = ReviewDataset(unlabeled_tokens)\n",
    "unlabeled_dataloader = DataLoader(unlabeled_dataset, batch_size=8, shuffle=False)\n",
    "\n",
    "# Make predictions\n",
    "unlabeled_predictions = trainer.predict(unlabeled_dataset)\n",
    "unlabeled_predicted_labels = torch.sigmoid(torch.tensor(unlabeled_predictions.predictions)).numpy()\n",
    "unlabeled_predicted_labels = (unlabeled_predicted_labels > 0.5).astype(int)\n",
    "\n",
    "# Convert predicted labels to dataframe\n",
    "unlabeled_pred_df = pd.DataFrame(unlabeled_predicted_labels, columns=mlb.classes_)\n",
    "\n",
    "# Concatenate predictions with the original unlabeled data\n",
    "unlabeled_data_with_predictions = pd.concat([unlabeled_data.reset_index(drop=True), unlabeled_pred_df], axis=1)\n",
    "\n",
    "# Save predictions to a new CSV file\n",
    "#unlabeled_data_with_predictions.to_csv('unlabeled_predictions.csv', index=False)\n"
   ]
  },
  {
   "cell_type": "code",
   "execution_count": 27,
   "id": "668473fd",
   "metadata": {
    "scrolled": true
   },
   "outputs": [
    {
     "data": {
      "text/html": [
       "<div>\n",
       "<style scoped>\n",
       "    .dataframe tbody tr th:only-of-type {\n",
       "        vertical-align: middle;\n",
       "    }\n",
       "\n",
       "    .dataframe tbody tr th {\n",
       "        vertical-align: top;\n",
       "    }\n",
       "\n",
       "    .dataframe thead th {\n",
       "        text-align: right;\n",
       "    }\n",
       "</style>\n",
       "<table border=\"1\" class=\"dataframe\">\n",
       "  <thead>\n",
       "    <tr style=\"text-align: right;\">\n",
       "      <th></th>\n",
       "      <th>Unnamed: 0</th>\n",
       "      <th>date</th>\n",
       "      <th>developerResponse</th>\n",
       "      <th>review</th>\n",
       "      <th>rating</th>\n",
       "      <th>isEdited</th>\n",
       "      <th>userName</th>\n",
       "      <th>title</th>\n",
       "      <th>app_name</th>\n",
       "      <th>app_id</th>\n",
       "      <th>l1_inaccurate_cycle_prediction</th>\n",
       "      <th>l2_delayed_customer_service</th>\n",
       "      <th>l3_poor_prescription_management</th>\n",
       "      <th>l4_problematic_billing_practices</th>\n",
       "    </tr>\n",
       "  </thead>\n",
       "  <tbody>\n",
       "    <tr>\n",
       "      <th>0</th>\n",
       "      <td>16</td>\n",
       "      <td>2021-04-08 12:35:25</td>\n",
       "      <td>{'id': 22156213, 'body': \"Hi Lynn, we are disa...</td>\n",
       "      <td>I first used Nurx a few years ago and it was a...</td>\n",
       "      <td>1</td>\n",
       "      <td>False</td>\n",
       "      <td>ALynnJ42</td>\n",
       "      <td>Used to be good</td>\n",
       "      <td>nurx-birth-control-delivered</td>\n",
       "      <td>1213141301</td>\n",
       "      <td>1</td>\n",
       "      <td>0</td>\n",
       "      <td>0</td>\n",
       "      <td>0</td>\n",
       "    </tr>\n",
       "    <tr>\n",
       "      <th>1</th>\n",
       "      <td>19</td>\n",
       "      <td>2021-01-05 06:10:19</td>\n",
       "      <td>NaN</td>\n",
       "      <td>I am not one to usually write reviews, but my ...</td>\n",
       "      <td>1</td>\n",
       "      <td>False</td>\n",
       "      <td>cp_2015</td>\n",
       "      <td>Avoid at all costs</td>\n",
       "      <td>nurx-birth-control-delivered</td>\n",
       "      <td>1213141301</td>\n",
       "      <td>1</td>\n",
       "      <td>0</td>\n",
       "      <td>0</td>\n",
       "      <td>1</td>\n",
       "    </tr>\n",
       "    <tr>\n",
       "      <th>2</th>\n",
       "      <td>33</td>\n",
       "      <td>2020-05-29 20:59:19</td>\n",
       "      <td>{'id': 11157202, 'body': 'We understand your r...</td>\n",
       "      <td>First the bad. I thought with this app/service...</td>\n",
       "      <td>2</td>\n",
       "      <td>True</td>\n",
       "      <td>Jen316</td>\n",
       "      <td>Good and bad</td>\n",
       "      <td>nurx-birth-control-delivered</td>\n",
       "      <td>1213141301</td>\n",
       "      <td>1</td>\n",
       "      <td>0</td>\n",
       "      <td>0</td>\n",
       "      <td>0</td>\n",
       "    </tr>\n",
       "    <tr>\n",
       "      <th>3</th>\n",
       "      <td>38</td>\n",
       "      <td>2021-08-12 03:31:37</td>\n",
       "      <td>{'id': 24534904, 'body': \"Hello Anna, thank yo...</td>\n",
       "      <td>If this worked well, I would love it. Unfortun...</td>\n",
       "      <td>1</td>\n",
       "      <td>False</td>\n",
       "      <td>anna.eliza</td>\n",
       "      <td>Good idea, bad execution</td>\n",
       "      <td>nurx-birth-control-delivered</td>\n",
       "      <td>1213141301</td>\n",
       "      <td>1</td>\n",
       "      <td>0</td>\n",
       "      <td>0</td>\n",
       "      <td>0</td>\n",
       "    </tr>\n",
       "    <tr>\n",
       "      <th>4</th>\n",
       "      <td>39</td>\n",
       "      <td>2020-12-29 21:47:51</td>\n",
       "      <td>{'id': 20112386, 'body': \"We are sorry to hear...</td>\n",
       "      <td>I hesitate to write negative reviews, but this...</td>\n",
       "      <td>1</td>\n",
       "      <td>False</td>\n",
       "      <td>Sacatu</td>\n",
       "      <td>Waste of time and $$</td>\n",
       "      <td>nurx-birth-control-delivered</td>\n",
       "      <td>1213141301</td>\n",
       "      <td>0</td>\n",
       "      <td>0</td>\n",
       "      <td>0</td>\n",
       "      <td>0</td>\n",
       "    </tr>\n",
       "    <tr>\n",
       "      <th>...</th>\n",
       "      <td>...</td>\n",
       "      <td>...</td>\n",
       "      <td>...</td>\n",
       "      <td>...</td>\n",
       "      <td>...</td>\n",
       "      <td>...</td>\n",
       "      <td>...</td>\n",
       "      <td>...</td>\n",
       "      <td>...</td>\n",
       "      <td>...</td>\n",
       "      <td>...</td>\n",
       "      <td>...</td>\n",
       "      <td>...</td>\n",
       "      <td>...</td>\n",
       "    </tr>\n",
       "    <tr>\n",
       "      <th>930</th>\n",
       "      <td>263</td>\n",
       "      <td>2024-02-01 20:20:43</td>\n",
       "      <td>{'id': 41980499, 'body': 'Oh no! We sincerely ...</td>\n",
       "      <td>In miserable pain for a UTI, showing all sympt...</td>\n",
       "      <td>1</td>\n",
       "      <td>False</td>\n",
       "      <td>dessert enjoyer</td>\n",
       "      <td>Cancelled UTI prescription request</td>\n",
       "      <td>planned-parenthood-direct</td>\n",
       "      <td>1214393415</td>\n",
       "      <td>1</td>\n",
       "      <td>0</td>\n",
       "      <td>0</td>\n",
       "      <td>1</td>\n",
       "    </tr>\n",
       "    <tr>\n",
       "      <th>931</th>\n",
       "      <td>268</td>\n",
       "      <td>2023-12-07 15:27:51</td>\n",
       "      <td>NaN</td>\n",
       "      <td>The app is not working! don't waste your time</td>\n",
       "      <td>1</td>\n",
       "      <td>False</td>\n",
       "      <td>paulineczka1212</td>\n",
       "      <td>The app is not working</td>\n",
       "      <td>planned-parenthood-direct</td>\n",
       "      <td>1214393415</td>\n",
       "      <td>1</td>\n",
       "      <td>0</td>\n",
       "      <td>1</td>\n",
       "      <td>1</td>\n",
       "    </tr>\n",
       "    <tr>\n",
       "      <th>932</th>\n",
       "      <td>278</td>\n",
       "      <td>2023-09-15 02:26:42</td>\n",
       "      <td>{'id': 39037722, 'body': 'Hi there - we are so...</td>\n",
       "      <td>it’s been 6 days and i have yet to get my pack...</td>\n",
       "      <td>1</td>\n",
       "      <td>False</td>\n",
       "      <td>uraqtbaeee</td>\n",
       "      <td>never received, nobody answered</td>\n",
       "      <td>planned-parenthood-direct</td>\n",
       "      <td>1214393415</td>\n",
       "      <td>1</td>\n",
       "      <td>0</td>\n",
       "      <td>0</td>\n",
       "      <td>1</td>\n",
       "    </tr>\n",
       "    <tr>\n",
       "      <th>933</th>\n",
       "      <td>279</td>\n",
       "      <td>2023-06-11 13:16:06</td>\n",
       "      <td>{'id': 37257712, 'body': \"Oh no, that doesn't ...</td>\n",
       "      <td>dumb app</td>\n",
       "      <td>1</td>\n",
       "      <td>False</td>\n",
       "      <td>Destiny Amari Robinson</td>\n",
       "      <td>doesnt work</td>\n",
       "      <td>planned-parenthood-direct</td>\n",
       "      <td>1214393415</td>\n",
       "      <td>1</td>\n",
       "      <td>0</td>\n",
       "      <td>1</td>\n",
       "      <td>1</td>\n",
       "    </tr>\n",
       "    <tr>\n",
       "      <th>934</th>\n",
       "      <td>283</td>\n",
       "      <td>2022-10-14 06:01:38</td>\n",
       "      <td>{'id': 32732872, 'body': 'Uh oh-this is defini...</td>\n",
       "      <td>I was really hoping for a better experience. J...</td>\n",
       "      <td>1</td>\n",
       "      <td>False</td>\n",
       "      <td>Ep_cn</td>\n",
       "      <td>Never got my prescription</td>\n",
       "      <td>planned-parenthood-direct</td>\n",
       "      <td>1214393415</td>\n",
       "      <td>1</td>\n",
       "      <td>0</td>\n",
       "      <td>0</td>\n",
       "      <td>0</td>\n",
       "    </tr>\n",
       "  </tbody>\n",
       "</table>\n",
       "<p>935 rows × 14 columns</p>\n",
       "</div>"
      ],
      "text/plain": [
       "     Unnamed: 0                 date  \\\n",
       "0            16  2021-04-08 12:35:25   \n",
       "1            19  2021-01-05 06:10:19   \n",
       "2            33  2020-05-29 20:59:19   \n",
       "3            38  2021-08-12 03:31:37   \n",
       "4            39  2020-12-29 21:47:51   \n",
       "..          ...                  ...   \n",
       "930         263  2024-02-01 20:20:43   \n",
       "931         268  2023-12-07 15:27:51   \n",
       "932         278  2023-09-15 02:26:42   \n",
       "933         279  2023-06-11 13:16:06   \n",
       "934         283  2022-10-14 06:01:38   \n",
       "\n",
       "                                     developerResponse  \\\n",
       "0    {'id': 22156213, 'body': \"Hi Lynn, we are disa...   \n",
       "1                                                  NaN   \n",
       "2    {'id': 11157202, 'body': 'We understand your r...   \n",
       "3    {'id': 24534904, 'body': \"Hello Anna, thank yo...   \n",
       "4    {'id': 20112386, 'body': \"We are sorry to hear...   \n",
       "..                                                 ...   \n",
       "930  {'id': 41980499, 'body': 'Oh no! We sincerely ...   \n",
       "931                                                NaN   \n",
       "932  {'id': 39037722, 'body': 'Hi there - we are so...   \n",
       "933  {'id': 37257712, 'body': \"Oh no, that doesn't ...   \n",
       "934  {'id': 32732872, 'body': 'Uh oh-this is defini...   \n",
       "\n",
       "                                                review  rating  isEdited  \\\n",
       "0    I first used Nurx a few years ago and it was a...       1     False   \n",
       "1    I am not one to usually write reviews, but my ...       1     False   \n",
       "2    First the bad. I thought with this app/service...       2      True   \n",
       "3    If this worked well, I would love it. Unfortun...       1     False   \n",
       "4    I hesitate to write negative reviews, but this...       1     False   \n",
       "..                                                 ...     ...       ...   \n",
       "930  In miserable pain for a UTI, showing all sympt...       1     False   \n",
       "931      The app is not working! don't waste your time       1     False   \n",
       "932  it’s been 6 days and i have yet to get my pack...       1     False   \n",
       "933                                           dumb app       1     False   \n",
       "934  I was really hoping for a better experience. J...       1     False   \n",
       "\n",
       "                   userName                               title  \\\n",
       "0                  ALynnJ42                     Used to be good   \n",
       "1                   cp_2015                  Avoid at all costs   \n",
       "2                    Jen316                        Good and bad   \n",
       "3                anna.eliza            Good idea, bad execution   \n",
       "4                    Sacatu                Waste of time and $$   \n",
       "..                      ...                                 ...   \n",
       "930         dessert enjoyer  Cancelled UTI prescription request   \n",
       "931         paulineczka1212              The app is not working   \n",
       "932              uraqtbaeee     never received, nobody answered   \n",
       "933  Destiny Amari Robinson                         doesnt work   \n",
       "934                   Ep_cn           Never got my prescription   \n",
       "\n",
       "                         app_name      app_id  l1_inaccurate_cycle_prediction  \\\n",
       "0    nurx-birth-control-delivered  1213141301                               1   \n",
       "1    nurx-birth-control-delivered  1213141301                               1   \n",
       "2    nurx-birth-control-delivered  1213141301                               1   \n",
       "3    nurx-birth-control-delivered  1213141301                               1   \n",
       "4    nurx-birth-control-delivered  1213141301                               0   \n",
       "..                            ...         ...                             ...   \n",
       "930     planned-parenthood-direct  1214393415                               1   \n",
       "931     planned-parenthood-direct  1214393415                               1   \n",
       "932     planned-parenthood-direct  1214393415                               1   \n",
       "933     planned-parenthood-direct  1214393415                               1   \n",
       "934     planned-parenthood-direct  1214393415                               1   \n",
       "\n",
       "     l2_delayed_customer_service  l3_poor_prescription_management  \\\n",
       "0                              0                                0   \n",
       "1                              0                                0   \n",
       "2                              0                                0   \n",
       "3                              0                                0   \n",
       "4                              0                                0   \n",
       "..                           ...                              ...   \n",
       "930                            0                                0   \n",
       "931                            0                                1   \n",
       "932                            0                                0   \n",
       "933                            0                                1   \n",
       "934                            0                                0   \n",
       "\n",
       "     l4_problematic_billing_practices  \n",
       "0                                   0  \n",
       "1                                   1  \n",
       "2                                   0  \n",
       "3                                   0  \n",
       "4                                   0  \n",
       "..                                ...  \n",
       "930                                 1  \n",
       "931                                 1  \n",
       "932                                 1  \n",
       "933                                 1  \n",
       "934                                 0  \n",
       "\n",
       "[935 rows x 14 columns]"
      ]
     },
     "execution_count": 27,
     "metadata": {},
     "output_type": "execute_result"
    }
   ],
   "source": [
    "unlabeled_data_with_predictions"
   ]
  },
  {
   "cell_type": "code",
   "execution_count": null,
   "id": "47f78b2e",
   "metadata": {},
   "outputs": [],
   "source": []
  },
  {
   "cell_type": "code",
   "execution_count": null,
   "id": "853d82ac",
   "metadata": {},
   "outputs": [],
   "source": []
  }
 ],
 "metadata": {
  "kernelspec": {
   "display_name": "Python 3 (ipykernel)",
   "language": "python",
   "name": "python3"
  },
  "language_info": {
   "codemirror_mode": {
    "name": "ipython",
    "version": 3
   },
   "file_extension": ".py",
   "mimetype": "text/x-python",
   "name": "python",
   "nbconvert_exporter": "python",
   "pygments_lexer": "ipython3",
   "version": "3.10.3"
  }
 },
 "nbformat": 4,
 "nbformat_minor": 5
}
